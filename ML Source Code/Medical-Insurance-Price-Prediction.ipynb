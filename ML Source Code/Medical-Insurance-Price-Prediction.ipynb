{
 "cells": [
  {
   "cell_type": "markdown",
   "id": "799b06af-5fc4-4c57-8aa4-2276654f694e",
   "metadata": {},
   "source": [
    "# Importing Necessary Libraries"
   ]
  },
  {
   "cell_type": "code",
   "execution_count": 3,
   "id": "3b9c92eb-c05b-41f0-99b5-d3ffd133988c",
   "metadata": {},
   "outputs": [],
   "source": [
    "import numpy as np\n",
    "import pandas as pd\n",
    "import matplotlib.pyplot as plt\n",
    "import seaborn as sns\n",
    "from sklearn.model_selection import train_test_split\n",
    "from sklearn.ensemble import RandomForestRegressor"
   ]
  },
  {
   "cell_type": "code",
   "execution_count": 4,
   "id": "12c8aa17-4c16-46bd-9e5b-ba450d39d8fa",
   "metadata": {},
   "outputs": [],
   "source": [
    "# Import the dataset\n",
    "insurance_data = pd.read_csv('insurance.csv')"
   ]
  },
  {
   "cell_type": "code",
   "execution_count": 5,
   "id": "4a929c01-1aa4-4b4a-9be0-502255232498",
   "metadata": {},
   "outputs": [
    {
     "data": {
      "text/html": [
       "<div>\n",
       "<style scoped>\n",
       "    .dataframe tbody tr th:only-of-type {\n",
       "        vertical-align: middle;\n",
       "    }\n",
       "\n",
       "    .dataframe tbody tr th {\n",
       "        vertical-align: top;\n",
       "    }\n",
       "\n",
       "    .dataframe thead th {\n",
       "        text-align: right;\n",
       "    }\n",
       "</style>\n",
       "<table border=\"1\" class=\"dataframe\">\n",
       "  <thead>\n",
       "    <tr style=\"text-align: right;\">\n",
       "      <th></th>\n",
       "      <th>age</th>\n",
       "      <th>sex</th>\n",
       "      <th>bmi</th>\n",
       "      <th>smoker</th>\n",
       "      <th>alcohol_consumer</th>\n",
       "      <th>disease</th>\n",
       "      <th>charges</th>\n",
       "    </tr>\n",
       "  </thead>\n",
       "  <tbody>\n",
       "    <tr>\n",
       "      <th>0</th>\n",
       "      <td>48</td>\n",
       "      <td>female</td>\n",
       "      <td>31.62</td>\n",
       "      <td>no</td>\n",
       "      <td>no</td>\n",
       "      <td>no</td>\n",
       "      <td>8378.32</td>\n",
       "    </tr>\n",
       "    <tr>\n",
       "      <th>1</th>\n",
       "      <td>21</td>\n",
       "      <td>female</td>\n",
       "      <td>28.87</td>\n",
       "      <td>no</td>\n",
       "      <td>yes</td>\n",
       "      <td>no</td>\n",
       "      <td>13508.18</td>\n",
       "    </tr>\n",
       "    <tr>\n",
       "      <th>2</th>\n",
       "      <td>35</td>\n",
       "      <td>female</td>\n",
       "      <td>34.51</td>\n",
       "      <td>yes</td>\n",
       "      <td>yes</td>\n",
       "      <td>no</td>\n",
       "      <td>28360.25</td>\n",
       "    </tr>\n",
       "    <tr>\n",
       "      <th>3</th>\n",
       "      <td>31</td>\n",
       "      <td>male</td>\n",
       "      <td>25.06</td>\n",
       "      <td>yes</td>\n",
       "      <td>yes</td>\n",
       "      <td>no</td>\n",
       "      <td>26233.89</td>\n",
       "    </tr>\n",
       "    <tr>\n",
       "      <th>4</th>\n",
       "      <td>53</td>\n",
       "      <td>male</td>\n",
       "      <td>20.88</td>\n",
       "      <td>yes</td>\n",
       "      <td>no</td>\n",
       "      <td>no</td>\n",
       "      <td>20358.48</td>\n",
       "    </tr>\n",
       "  </tbody>\n",
       "</table>\n",
       "</div>"
      ],
      "text/plain": [
       "   age     sex    bmi smoker alcohol_consumer disease   charges\n",
       "0   48  female  31.62     no               no      no   8378.32\n",
       "1   21  female  28.87     no              yes      no  13508.18\n",
       "2   35  female  34.51    yes              yes      no  28360.25\n",
       "3   31    male  25.06    yes              yes      no  26233.89\n",
       "4   53    male  20.88    yes               no      no  20358.48"
      ]
     },
     "execution_count": 5,
     "metadata": {},
     "output_type": "execute_result"
    }
   ],
   "source": [
    "# Print few rows of the dataset\n",
    "insurance_data.head()"
   ]
  },
  {
   "cell_type": "code",
   "execution_count": 6,
   "id": "d43f6584-c994-42e4-87c8-08647f1e7128",
   "metadata": {},
   "outputs": [
    {
     "data": {
      "text/plain": [
       "(28656, 7)"
      ]
     },
     "execution_count": 6,
     "metadata": {},
     "output_type": "execute_result"
    }
   ],
   "source": [
    "# Check how many rows and coumns do ve have (just for the check above count)\n",
    "insurance_data.shape"
   ]
  },
  {
   "cell_type": "code",
   "execution_count": 7,
   "id": "42bc8c34-0df8-4ff6-bcbc-dce537a648cd",
   "metadata": {},
   "outputs": [
    {
     "name": "stdout",
     "output_type": "stream",
     "text": [
      "<class 'pandas.core.frame.DataFrame'>\n",
      "RangeIndex: 28656 entries, 0 to 28655\n",
      "Data columns (total 7 columns):\n",
      " #   Column            Non-Null Count  Dtype  \n",
      "---  ------            --------------  -----  \n",
      " 0   age               28656 non-null  int64  \n",
      " 1   sex               28656 non-null  object \n",
      " 2   bmi               28656 non-null  float64\n",
      " 3   smoker            28656 non-null  object \n",
      " 4   alcohol_consumer  28656 non-null  object \n",
      " 5   disease           28656 non-null  object \n",
      " 6   charges           28656 non-null  float64\n",
      "dtypes: float64(2), int64(1), object(4)\n",
      "memory usage: 1.5+ MB\n"
     ]
    }
   ],
   "source": [
    "# Check the data types of the column (Object - categorical column)\n",
    "insurance_data.info()"
   ]
  },
  {
   "cell_type": "markdown",
   "id": "303cd7c4-67c1-48ee-809c-8876f0dbdd33",
   "metadata": {},
   "source": [
    "# Describe the datas of numarical columns"
   ]
  },
  {
   "cell_type": "code",
   "execution_count": 9,
   "id": "7b1c0e4f-ab3f-4ec4-81d6-25e6929ab857",
   "metadata": {},
   "outputs": [
    {
     "data": {
      "text/html": [
       "<div>\n",
       "<style scoped>\n",
       "    .dataframe tbody tr th:only-of-type {\n",
       "        vertical-align: middle;\n",
       "    }\n",
       "\n",
       "    .dataframe tbody tr th {\n",
       "        vertical-align: top;\n",
       "    }\n",
       "\n",
       "    .dataframe thead th {\n",
       "        text-align: right;\n",
       "    }\n",
       "</style>\n",
       "<table border=\"1\" class=\"dataframe\">\n",
       "  <thead>\n",
       "    <tr style=\"text-align: right;\">\n",
       "      <th></th>\n",
       "      <th>age</th>\n",
       "      <th>bmi</th>\n",
       "      <th>charges</th>\n",
       "    </tr>\n",
       "  </thead>\n",
       "  <tbody>\n",
       "    <tr>\n",
       "      <th>count</th>\n",
       "      <td>28656.000000</td>\n",
       "      <td>28656.000000</td>\n",
       "      <td>28656.000000</td>\n",
       "    </tr>\n",
       "    <tr>\n",
       "      <th>mean</th>\n",
       "      <td>40.035246</td>\n",
       "      <td>29.599232</td>\n",
       "      <td>4936.302853</td>\n",
       "    </tr>\n",
       "    <tr>\n",
       "      <th>std</th>\n",
       "      <td>14.007056</td>\n",
       "      <td>6.112546</td>\n",
       "      <td>9289.908990</td>\n",
       "    </tr>\n",
       "    <tr>\n",
       "      <th>min</th>\n",
       "      <td>18.000000</td>\n",
       "      <td>15.960000</td>\n",
       "      <td>0.000000</td>\n",
       "    </tr>\n",
       "    <tr>\n",
       "      <th>25%</th>\n",
       "      <td>28.000000</td>\n",
       "      <td>25.175000</td>\n",
       "      <td>0.000000</td>\n",
       "    </tr>\n",
       "    <tr>\n",
       "      <th>50%</th>\n",
       "      <td>40.000000</td>\n",
       "      <td>29.480000</td>\n",
       "      <td>0.000000</td>\n",
       "    </tr>\n",
       "    <tr>\n",
       "      <th>75%</th>\n",
       "      <td>52.000000</td>\n",
       "      <td>33.600000</td>\n",
       "      <td>5739.465000</td>\n",
       "    </tr>\n",
       "    <tr>\n",
       "      <th>max</th>\n",
       "      <td>65.000000</td>\n",
       "      <td>53.130000</td>\n",
       "      <td>36015.080000</td>\n",
       "    </tr>\n",
       "  </tbody>\n",
       "</table>\n",
       "</div>"
      ],
      "text/plain": [
       "                age           bmi       charges\n",
       "count  28656.000000  28656.000000  28656.000000\n",
       "mean      40.035246     29.599232   4936.302853\n",
       "std       14.007056      6.112546   9289.908990\n",
       "min       18.000000     15.960000      0.000000\n",
       "25%       28.000000     25.175000      0.000000\n",
       "50%       40.000000     29.480000      0.000000\n",
       "75%       52.000000     33.600000   5739.465000\n",
       "max       65.000000     53.130000  36015.080000"
      ]
     },
     "execution_count": 9,
     "metadata": {},
     "output_type": "execute_result"
    }
   ],
   "source": [
    "# count - Check how many rows and coumns\n",
    "# mean - avarage of every columns\n",
    "# percent - 25% - age (under age 27 there are 25% persons according to my dataset)\n",
    "\n",
    "insurance_data.describe()"
   ]
  },
  {
   "cell_type": "markdown",
   "id": "78b78452-95c4-44ff-8db7-065c77f9a422",
   "metadata": {},
   "source": [
    "# Check is there any null values or not"
   ]
  },
  {
   "cell_type": "code",
   "execution_count": 11,
   "id": "2c5a6b57-444e-406f-a5f0-60c41c84bdb8",
   "metadata": {},
   "outputs": [
    {
     "data": {
      "text/plain": [
       "age                 0\n",
       "sex                 0\n",
       "bmi                 0\n",
       "smoker              0\n",
       "alcohol_consumer    0\n",
       "disease             0\n",
       "charges             0\n",
       "dtype: int64"
      ]
     },
     "execution_count": 11,
     "metadata": {},
     "output_type": "execute_result"
    }
   ],
   "source": [
    "insurance_data.isnull().sum()"
   ]
  },
  {
   "cell_type": "markdown",
   "id": "ba8b4b02-37b7-492d-a35d-53ad64f31753",
   "metadata": {},
   "source": [
    "# Exploratory Data Analysis (EDA)"
   ]
  },
  {
   "cell_type": "code",
   "execution_count": 13,
   "id": "f8ed9aa3-cb93-44b7-bbca-f62d18e9c5b5",
   "metadata": {},
   "outputs": [],
   "source": [
    "# create a copy of the dataset\n",
    "insurance_data_copy = insurance_data.copy()"
   ]
  },
  {
   "cell_type": "markdown",
   "id": "f0d748a1-b17e-4738-814d-f383e7bed941",
   "metadata": {},
   "source": [
    "# Data Distribution for Numerical Column - Age"
   ]
  },
  {
   "cell_type": "code",
   "execution_count": 15,
   "id": "41a15f03-1a79-461d-9140-d21993b4fcc2",
   "metadata": {},
   "outputs": [
    {
     "data": {
      "text/plain": [
       "<Figure size 600x600 with 0 Axes>"
      ]
     },
     "metadata": {},
     "output_type": "display_data"
    },
    {
     "data": {
      "image/png": "[encoded data removed]",
      "text/plain": [
       "<Figure size 500x500 with 1 Axes>"
      ]
     },
     "metadata": {},
     "output_type": "display_data"
    }
   ],
   "source": [
    "sns.set()\n",
    "                    # lenght and width\n",
    "plt.figure(figsize=(6,6))\n",
    "sns.displot(insurance_data_copy['age'])\n",
    "plt.show()\n",
    "\n",
    "# In this the age 20 gap is more persons"
   ]
  },
  {
   "cell_type": "code",
   "execution_count": 16,
   "id": "2dc9a442-645a-4ec7-867c-16b708a5cda3",
   "metadata": {},
   "outputs": [
    {
     "data": {
      "text/plain": [
       "age\n",
       "18    1232\n",
       "19    1204\n",
       "52     693\n",
       "49     675\n",
       "48     662\n",
       "30     657\n",
       "50     654\n",
       "47     647\n",
       "31     635\n",
       "51     635\n",
       "27     626\n",
       "42     623\n",
       "34     618\n",
       "32     616\n",
       "28     614\n",
       "45     611\n",
       "20     601\n",
       "53     598\n",
       "22     597\n",
       "39     597\n",
       "54     585\n",
       "25     583\n",
       "24     575\n",
       "57     573\n",
       "33     573\n",
       "60     572\n",
       "23     571\n",
       "29     567\n",
       "56     567\n",
       "61     567\n",
       "41     562\n",
       "63     559\n",
       "38     557\n",
       "43     552\n",
       "44     548\n",
       "35     546\n",
       "36     538\n",
       "62     534\n",
       "46     532\n",
       "58     526\n",
       "55     517\n",
       "40     514\n",
       "21     506\n",
       "64     497\n",
       "26     494\n",
       "37     489\n",
       "59     478\n",
       "65     179\n",
       "Name: count, dtype: int64"
      ]
     },
     "execution_count": 16,
     "metadata": {},
     "output_type": "execute_result"
    }
   ],
   "source": [
    "# Counts of the persons according to the age\n",
    "# It is hard to scroll down up and check those that is why created a above chart for a single column\n",
    "\n",
    "insurance_data_copy['age'].value_counts()"
   ]
  },
  {
   "cell_type": "markdown",
   "id": "dd6391c4-1537-40d8-97cb-dbc0c7f37087",
   "metadata": {},
   "source": [
    "# Column charts for Categorical Column - Sex"
   ]
  },
  {
   "cell_type": "code",
   "execution_count": 18,
   "id": "b4683d2f-6310-486d-8ae9-3ef027f467f4",
   "metadata": {},
   "outputs": [
    {
     "data": {
      "image/png": "[encoded data removed]",
      "text/plain": [
       "<Figure size 600x600 with 1 Axes>"
      ]
     },
     "metadata": {},
     "output_type": "display_data"
    }
   ],
   "source": [
    "sns.set()\n",
    "plt.figure(figsize=(6,6))\n",
    "    # Instead displot here we use countplot\n",
    "sns.countplot(x= insurance_data_copy['sex'], data = insurance_data)\n",
    "plt.show()"
   ]
  },
  {
   "cell_type": "code",
   "execution_count": 19,
   "id": "c76536dc-a0fa-4431-9238-f67ce5bda149",
   "metadata": {},
   "outputs": [
    {
     "data": {
      "text/plain": [
       "sex\n",
       "male      14563\n",
       "female    14093\n",
       "Name: count, dtype: int64"
      ]
     },
     "execution_count": 19,
     "metadata": {},
     "output_type": "execute_result"
    }
   ],
   "source": [
    "# The unique value along with the counts\n",
    "\n",
    "insurance_data_copy['sex'].value_counts()"
   ]
  },
  {
   "cell_type": "markdown",
   "id": "738c76ea-fb7c-4f5d-ad28-115eb50ed4de",
   "metadata": {},
   "source": [
    "# Data Distribution for Numerical Column - BMI"
   ]
  },
  {
   "cell_type": "code",
   "execution_count": 21,
   "id": "6f388b2c-e101-49f7-967d-55500ccb1f8e",
   "metadata": {},
   "outputs": [
    {
     "data": {
      "text/plain": [
       "<Figure size 600x600 with 0 Axes>"
      ]
     },
     "metadata": {},
     "output_type": "display_data"
    },
    {
     "data": {
      "image/png": "[encoded data removed]",
      "text/plain": [
       "<Figure size 500x500 with 1 Axes>"
      ]
     },
     "metadata": {},
     "output_type": "display_data"
    }
   ],
   "source": [
    "sns.set()\n",
    "                    # lenght and width\n",
    "plt.figure(figsize=(6,6))\n",
    "sns.displot(insurance_data_copy['bmi'])\n",
    "plt.show()"
   ]
  },
  {
   "cell_type": "markdown",
   "id": "9517a978-8fe9-41e0-bc5b-09ea33a4d212",
   "metadata": {},
   "source": [
    "# Column charts for Categorical Column - Smoker"
   ]
  },
  {
   "cell_type": "code",
   "execution_count": 23,
   "id": "9764df64-7c5a-436f-bdc5-1ffdd945f9f4",
   "metadata": {},
   "outputs": [
    {
     "data": {
      "image/png": "[encoded data removed]",
      "text/plain": [
       "<Figure size 600x600 with 1 Axes>"
      ]
     },
     "metadata": {},
     "output_type": "display_data"
    }
   ],
   "source": [
    "sns.set()\n",
    "plt.figure(figsize=(6,6))\n",
    "sns.countplot(x= insurance_data_copy['smoker'], data = insurance_data)\n",
    "plt.show()"
   ]
  },
  {
   "cell_type": "markdown",
   "id": "129c2313-530d-45f7-803a-ac277be6b3db",
   "metadata": {},
   "source": [
    "# Column charts for Categorical Column - Alcohol consumer"
   ]
  },
  {
   "cell_type": "code",
   "execution_count": 25,
   "id": "d27b0a11-5f73-4d46-8dc0-994650969ae0",
   "metadata": {},
   "outputs": [
    {
     "data": {
      "image/png": "[encoded data removed]",
      "text/plain": [
       "<Figure size 600x600 with 1 Axes>"
      ]
     },
     "metadata": {},
     "output_type": "display_data"
    }
   ],
   "source": [
    "sns.set()\n",
    "plt.figure(figsize=(6,6))\n",
    "sns.countplot(x= insurance_data_copy['alcohol_consumer'], data = insurance_data)\n",
    "plt.show()"
   ]
  },
  {
   "cell_type": "markdown",
   "id": "ac75d2db-f088-400c-a6b2-d64c963cc588",
   "metadata": {},
   "source": [
    "# Column charts for Categorical Column - disease"
   ]
  },
  {
   "cell_type": "code",
   "execution_count": 27,
   "id": "28901734-e6fd-4629-a521-5e745fcdbe75",
   "metadata": {},
   "outputs": [
    {
     "data": {
      "image/png": "[encoded data removed]",
      "text/plain": [
       "<Figure size 1500x600 with 1 Axes>"
      ]
     },
     "metadata": {},
     "output_type": "display_data"
    }
   ],
   "source": [
    "sns.set()\n",
    "plt.figure(figsize=(15,6))\n",
    "sns.countplot(x= insurance_data_copy['disease'], data = insurance_data)\n",
    "plt.show()"
   ]
  },
  {
   "cell_type": "code",
   "execution_count": 28,
   "id": "8641507c-7195-49b5-b701-3edcd630f8c3",
   "metadata": {},
   "outputs": [
    {
     "data": {
      "text/plain": [
       "disease\n",
       "no                                 7678\n",
       "Heart disease                      3547\n",
       "Advanced-stage cancer              3545\n",
       "Mental and behavioral disorders    3527\n",
       "Liver disease                      3522\n",
       "AIDS                               3460\n",
       "Coma                               3377\n",
       "Name: count, dtype: int64"
      ]
     },
     "execution_count": 28,
     "metadata": {},
     "output_type": "execute_result"
    }
   ],
   "source": [
    "# Check unique values of the disease\n",
    "insurance_data['disease'].value_counts()"
   ]
  },
  {
   "cell_type": "code",
   "execution_count": 29,
   "id": "5b16a9e1-e7b3-4cef-b2e7-62fc901cc896",
   "metadata": {},
   "outputs": [
    {
     "data": {
      "text/html": [
       "<div>\n",
       "<style scoped>\n",
       "    .dataframe tbody tr th:only-of-type {\n",
       "        vertical-align: middle;\n",
       "    }\n",
       "\n",
       "    .dataframe tbody tr th {\n",
       "        vertical-align: top;\n",
       "    }\n",
       "\n",
       "    .dataframe thead th {\n",
       "        text-align: right;\n",
       "    }\n",
       "</style>\n",
       "<table border=\"1\" class=\"dataframe\">\n",
       "  <thead>\n",
       "    <tr style=\"text-align: right;\">\n",
       "      <th></th>\n",
       "      <th>age</th>\n",
       "      <th>sex</th>\n",
       "      <th>bmi</th>\n",
       "      <th>smoker</th>\n",
       "      <th>alcohol_consumer</th>\n",
       "      <th>disease</th>\n",
       "      <th>charges</th>\n",
       "    </tr>\n",
       "  </thead>\n",
       "  <tbody>\n",
       "    <tr>\n",
       "      <th>0</th>\n",
       "      <td>48</td>\n",
       "      <td>female</td>\n",
       "      <td>31.620</td>\n",
       "      <td>no</td>\n",
       "      <td>no</td>\n",
       "      <td>no</td>\n",
       "      <td>8378.32</td>\n",
       "    </tr>\n",
       "    <tr>\n",
       "      <th>1</th>\n",
       "      <td>21</td>\n",
       "      <td>female</td>\n",
       "      <td>28.870</td>\n",
       "      <td>no</td>\n",
       "      <td>yes</td>\n",
       "      <td>no</td>\n",
       "      <td>13508.18</td>\n",
       "    </tr>\n",
       "    <tr>\n",
       "      <th>2</th>\n",
       "      <td>35</td>\n",
       "      <td>female</td>\n",
       "      <td>34.510</td>\n",
       "      <td>yes</td>\n",
       "      <td>yes</td>\n",
       "      <td>no</td>\n",
       "      <td>28360.25</td>\n",
       "    </tr>\n",
       "    <tr>\n",
       "      <th>3</th>\n",
       "      <td>31</td>\n",
       "      <td>male</td>\n",
       "      <td>25.060</td>\n",
       "      <td>yes</td>\n",
       "      <td>yes</td>\n",
       "      <td>no</td>\n",
       "      <td>26233.89</td>\n",
       "    </tr>\n",
       "    <tr>\n",
       "      <th>4</th>\n",
       "      <td>53</td>\n",
       "      <td>male</td>\n",
       "      <td>20.880</td>\n",
       "      <td>yes</td>\n",
       "      <td>no</td>\n",
       "      <td>no</td>\n",
       "      <td>20358.48</td>\n",
       "    </tr>\n",
       "    <tr>\n",
       "      <th>...</th>\n",
       "      <td>...</td>\n",
       "      <td>...</td>\n",
       "      <td>...</td>\n",
       "      <td>...</td>\n",
       "      <td>...</td>\n",
       "      <td>...</td>\n",
       "      <td>...</td>\n",
       "    </tr>\n",
       "    <tr>\n",
       "      <th>28651</th>\n",
       "      <td>51</td>\n",
       "      <td>female</td>\n",
       "      <td>34.200</td>\n",
       "      <td>no</td>\n",
       "      <td>no</td>\n",
       "      <td>Mental and behavioral disorders</td>\n",
       "      <td>0.00</td>\n",
       "    </tr>\n",
       "    <tr>\n",
       "      <th>28652</th>\n",
       "      <td>64</td>\n",
       "      <td>female</td>\n",
       "      <td>39.050</td>\n",
       "      <td>no</td>\n",
       "      <td>no</td>\n",
       "      <td>Coma</td>\n",
       "      <td>0.00</td>\n",
       "    </tr>\n",
       "    <tr>\n",
       "      <th>28653</th>\n",
       "      <td>31</td>\n",
       "      <td>male</td>\n",
       "      <td>26.950</td>\n",
       "      <td>no</td>\n",
       "      <td>no</td>\n",
       "      <td>no</td>\n",
       "      <td>5618.67</td>\n",
       "    </tr>\n",
       "    <tr>\n",
       "      <th>28654</th>\n",
       "      <td>63</td>\n",
       "      <td>female</td>\n",
       "      <td>31.800</td>\n",
       "      <td>no</td>\n",
       "      <td>no</td>\n",
       "      <td>Liver disease</td>\n",
       "      <td>0.00</td>\n",
       "    </tr>\n",
       "    <tr>\n",
       "      <th>28655</th>\n",
       "      <td>58</td>\n",
       "      <td>female</td>\n",
       "      <td>32.395</td>\n",
       "      <td>no</td>\n",
       "      <td>yes</td>\n",
       "      <td>Coma</td>\n",
       "      <td>0.00</td>\n",
       "    </tr>\n",
       "  </tbody>\n",
       "</table>\n",
       "<p>28656 rows × 7 columns</p>\n",
       "</div>"
      ],
      "text/plain": [
       "       age     sex     bmi smoker alcohol_consumer  \\\n",
       "0       48  female  31.620     no               no   \n",
       "1       21  female  28.870     no              yes   \n",
       "2       35  female  34.510    yes              yes   \n",
       "3       31    male  25.060    yes              yes   \n",
       "4       53    male  20.880    yes               no   \n",
       "...    ...     ...     ...    ...              ...   \n",
       "28651   51  female  34.200     no               no   \n",
       "28652   64  female  39.050     no               no   \n",
       "28653   31    male  26.950     no               no   \n",
       "28654   63  female  31.800     no               no   \n",
       "28655   58  female  32.395     no              yes   \n",
       "\n",
       "                               disease   charges  \n",
       "0                                   no   8378.32  \n",
       "1                                   no  13508.18  \n",
       "2                                   no  28360.25  \n",
       "3                                   no  26233.89  \n",
       "4                                   no  20358.48  \n",
       "...                                ...       ...  \n",
       "28651  Mental and behavioral disorders      0.00  \n",
       "28652                             Coma      0.00  \n",
       "28653                               no   5618.67  \n",
       "28654                    Liver disease      0.00  \n",
       "28655                             Coma      0.00  \n",
       "\n",
       "[28656 rows x 7 columns]"
      ]
     },
     "execution_count": 29,
     "metadata": {},
     "output_type": "execute_result"
    }
   ],
   "source": [
    "insurance_data"
   ]
  },
  {
   "cell_type": "markdown",
   "id": "695f50c0-a27f-4e59-89c4-3d0656935348",
   "metadata": {},
   "source": [
    "# Converting Categorical Columns into Numerical Columns"
   ]
  },
  {
   "cell_type": "code",
   "execution_count": 31,
   "id": "0cce0d21-3f18-4dc1-9256-8e52fcef1f18",
   "metadata": {},
   "outputs": [],
   "source": [
    "# Here added (future.no_silent_downcasting) because if not add that, it shows an error and that error has mentioned to add this. How ever it convert\n",
    "\n",
    "# Explicitly opting in to future behavior\n",
    "pd.set_option('future.no_silent_downcasting', True)\n",
    "\n",
    "insurance_data.replace({'sex':{'female':0, 'male':1}}, inplace=True)\n",
    "\n",
    "insurance_data.replace({'smoker':{'no':0, 'yes':1}}, inplace=True)\n",
    "\n",
    "insurance_data.replace({'alcohol_consumer':{'no':0, 'yes':1}}, inplace=True)\n",
    "\n",
    "insurance_data.replace({'disease':{'no':0, 'Heart disease':1, 'Advanced-stage cancer':2, 'Mental and behavioral disorders':3,\n",
    "                                  'Liver disease':4, 'AIDS':5, 'Coma':6}}, inplace=True)\n",
    "\n",
    "# Resetting the behavior to avoid affecting other scripts\n",
    "pd.set_option('future.no_silent_downcasting', False)"
   ]
  },
  {
   "cell_type": "code",
   "execution_count": 32,
   "id": "bceca94f-fbd4-4833-9003-ae4316f1c68f",
   "metadata": {},
   "outputs": [
    {
     "data": {
      "text/html": [
       "<div>\n",
       "<style scoped>\n",
       "    .dataframe tbody tr th:only-of-type {\n",
       "        vertical-align: middle;\n",
       "    }\n",
       "\n",
       "    .dataframe tbody tr th {\n",
       "        vertical-align: top;\n",
       "    }\n",
       "\n",
       "    .dataframe thead th {\n",
       "        text-align: right;\n",
       "    }\n",
       "</style>\n",
       "<table border=\"1\" class=\"dataframe\">\n",
       "  <thead>\n",
       "    <tr style=\"text-align: right;\">\n",
       "      <th></th>\n",
       "      <th>age</th>\n",
       "      <th>sex</th>\n",
       "      <th>bmi</th>\n",
       "      <th>smoker</th>\n",
       "      <th>alcohol_consumer</th>\n",
       "      <th>disease</th>\n",
       "      <th>charges</th>\n",
       "    </tr>\n",
       "  </thead>\n",
       "  <tbody>\n",
       "    <tr>\n",
       "      <th>0</th>\n",
       "      <td>48</td>\n",
       "      <td>0</td>\n",
       "      <td>31.62</td>\n",
       "      <td>0</td>\n",
       "      <td>0</td>\n",
       "      <td>0</td>\n",
       "      <td>8378.32</td>\n",
       "    </tr>\n",
       "    <tr>\n",
       "      <th>1</th>\n",
       "      <td>21</td>\n",
       "      <td>0</td>\n",
       "      <td>28.87</td>\n",
       "      <td>0</td>\n",
       "      <td>1</td>\n",
       "      <td>0</td>\n",
       "      <td>13508.18</td>\n",
       "    </tr>\n",
       "    <tr>\n",
       "      <th>2</th>\n",
       "      <td>35</td>\n",
       "      <td>0</td>\n",
       "      <td>34.51</td>\n",
       "      <td>1</td>\n",
       "      <td>1</td>\n",
       "      <td>0</td>\n",
       "      <td>28360.25</td>\n",
       "    </tr>\n",
       "    <tr>\n",
       "      <th>3</th>\n",
       "      <td>31</td>\n",
       "      <td>1</td>\n",
       "      <td>25.06</td>\n",
       "      <td>1</td>\n",
       "      <td>1</td>\n",
       "      <td>0</td>\n",
       "      <td>26233.89</td>\n",
       "    </tr>\n",
       "    <tr>\n",
       "      <th>4</th>\n",
       "      <td>53</td>\n",
       "      <td>1</td>\n",
       "      <td>20.88</td>\n",
       "      <td>1</td>\n",
       "      <td>0</td>\n",
       "      <td>0</td>\n",
       "      <td>20358.48</td>\n",
       "    </tr>\n",
       "  </tbody>\n",
       "</table>\n",
       "</div>"
      ],
      "text/plain": [
       "   age sex    bmi smoker alcohol_consumer disease   charges\n",
       "0   48   0  31.62      0                0       0   8378.32\n",
       "1   21   0  28.87      0                1       0  13508.18\n",
       "2   35   0  34.51      1                1       0  28360.25\n",
       "3   31   1  25.06      1                1       0  26233.89\n",
       "4   53   1  20.88      1                0       0  20358.48"
      ]
     },
     "execution_count": 32,
     "metadata": {},
     "output_type": "execute_result"
    }
   ],
   "source": [
    "insurance_data.head()"
   ]
  },
  {
   "cell_type": "markdown",
   "id": "38cdacce-4343-49eb-9b36-cc203ad45758",
   "metadata": {},
   "source": [
    "# Split the dataset into input and output dataset"
   ]
  },
  {
   "cell_type": "code",
   "execution_count": 34,
   "id": "d322eaa5-72c2-41b7-a28b-8cef948e1624",
   "metadata": {},
   "outputs": [],
   "source": [
    "# Input data - age, sex, bmi, children, smoker, region\n",
    "# Output data - charges\n",
    "\n",
    "input_data = insurance_data.drop(columns='charges')\n",
    "output_data = insurance_data['charges']"
   ]
  },
  {
   "cell_type": "code",
   "execution_count": 35,
   "id": "cdee5145-a7b7-46aa-b389-35a74348ebaa",
   "metadata": {},
   "outputs": [
    {
     "data": {
      "text/html": [
       "<div>\n",
       "<style scoped>\n",
       "    .dataframe tbody tr th:only-of-type {\n",
       "        vertical-align: middle;\n",
       "    }\n",
       "\n",
       "    .dataframe tbody tr th {\n",
       "        vertical-align: top;\n",
       "    }\n",
       "\n",
       "    .dataframe thead th {\n",
       "        text-align: right;\n",
       "    }\n",
       "</style>\n",
       "<table border=\"1\" class=\"dataframe\">\n",
       "  <thead>\n",
       "    <tr style=\"text-align: right;\">\n",
       "      <th></th>\n",
       "      <th>age</th>\n",
       "      <th>sex</th>\n",
       "      <th>bmi</th>\n",
       "      <th>smoker</th>\n",
       "      <th>alcohol_consumer</th>\n",
       "      <th>disease</th>\n",
       "    </tr>\n",
       "  </thead>\n",
       "  <tbody>\n",
       "    <tr>\n",
       "      <th>0</th>\n",
       "      <td>48</td>\n",
       "      <td>0</td>\n",
       "      <td>31.620</td>\n",
       "      <td>0</td>\n",
       "      <td>0</td>\n",
       "      <td>0</td>\n",
       "    </tr>\n",
       "    <tr>\n",
       "      <th>1</th>\n",
       "      <td>21</td>\n",
       "      <td>0</td>\n",
       "      <td>28.870</td>\n",
       "      <td>0</td>\n",
       "      <td>1</td>\n",
       "      <td>0</td>\n",
       "    </tr>\n",
       "    <tr>\n",
       "      <th>2</th>\n",
       "      <td>35</td>\n",
       "      <td>0</td>\n",
       "      <td>34.510</td>\n",
       "      <td>1</td>\n",
       "      <td>1</td>\n",
       "      <td>0</td>\n",
       "    </tr>\n",
       "    <tr>\n",
       "      <th>3</th>\n",
       "      <td>31</td>\n",
       "      <td>1</td>\n",
       "      <td>25.060</td>\n",
       "      <td>1</td>\n",
       "      <td>1</td>\n",
       "      <td>0</td>\n",
       "    </tr>\n",
       "    <tr>\n",
       "      <th>4</th>\n",
       "      <td>53</td>\n",
       "      <td>1</td>\n",
       "      <td>20.880</td>\n",
       "      <td>1</td>\n",
       "      <td>0</td>\n",
       "      <td>0</td>\n",
       "    </tr>\n",
       "    <tr>\n",
       "      <th>...</th>\n",
       "      <td>...</td>\n",
       "      <td>...</td>\n",
       "      <td>...</td>\n",
       "      <td>...</td>\n",
       "      <td>...</td>\n",
       "      <td>...</td>\n",
       "    </tr>\n",
       "    <tr>\n",
       "      <th>28651</th>\n",
       "      <td>51</td>\n",
       "      <td>0</td>\n",
       "      <td>34.200</td>\n",
       "      <td>0</td>\n",
       "      <td>0</td>\n",
       "      <td>3</td>\n",
       "    </tr>\n",
       "    <tr>\n",
       "      <th>28652</th>\n",
       "      <td>64</td>\n",
       "      <td>0</td>\n",
       "      <td>39.050</td>\n",
       "      <td>0</td>\n",
       "      <td>0</td>\n",
       "      <td>6</td>\n",
       "    </tr>\n",
       "    <tr>\n",
       "      <th>28653</th>\n",
       "      <td>31</td>\n",
       "      <td>1</td>\n",
       "      <td>26.950</td>\n",
       "      <td>0</td>\n",
       "      <td>0</td>\n",
       "      <td>0</td>\n",
       "    </tr>\n",
       "    <tr>\n",
       "      <th>28654</th>\n",
       "      <td>63</td>\n",
       "      <td>0</td>\n",
       "      <td>31.800</td>\n",
       "      <td>0</td>\n",
       "      <td>0</td>\n",
       "      <td>4</td>\n",
       "    </tr>\n",
       "    <tr>\n",
       "      <th>28655</th>\n",
       "      <td>58</td>\n",
       "      <td>0</td>\n",
       "      <td>32.395</td>\n",
       "      <td>0</td>\n",
       "      <td>1</td>\n",
       "      <td>6</td>\n",
       "    </tr>\n",
       "  </tbody>\n",
       "</table>\n",
       "<p>28656 rows × 6 columns</p>\n",
       "</div>"
      ],
      "text/plain": [
       "       age sex     bmi smoker alcohol_consumer disease\n",
       "0       48   0  31.620      0                0       0\n",
       "1       21   0  28.870      0                1       0\n",
       "2       35   0  34.510      1                1       0\n",
       "3       31   1  25.060      1                1       0\n",
       "4       53   1  20.880      1                0       0\n",
       "...    ...  ..     ...    ...              ...     ...\n",
       "28651   51   0  34.200      0                0       3\n",
       "28652   64   0  39.050      0                0       6\n",
       "28653   31   1  26.950      0                0       0\n",
       "28654   63   0  31.800      0                0       4\n",
       "28655   58   0  32.395      0                1       6\n",
       "\n",
       "[28656 rows x 6 columns]"
      ]
     },
     "execution_count": 35,
     "metadata": {},
     "output_type": "execute_result"
    }
   ],
   "source": [
    "input_data"
   ]
  },
  {
   "cell_type": "code",
   "execution_count": 36,
   "id": "91c41e54-e875-467a-bfd9-3791bed895ad",
   "metadata": {},
   "outputs": [
    {
     "data": {
      "text/plain": [
       "0         8378.32\n",
       "1        13508.18\n",
       "2        28360.25\n",
       "3        26233.89\n",
       "4        20358.48\n",
       "           ...   \n",
       "28651        0.00\n",
       "28652        0.00\n",
       "28653     5618.67\n",
       "28654        0.00\n",
       "28655        0.00\n",
       "Name: charges, Length: 28656, dtype: float64"
      ]
     },
     "execution_count": 36,
     "metadata": {},
     "output_type": "execute_result"
    }
   ],
   "source": [
    "output_data"
   ]
  },
  {
   "cell_type": "markdown",
   "id": "7240e930-7931-4c56-b780-9f52d6dbba74",
   "metadata": {},
   "source": [
    "# Split the dataset into 2 parts (Training dataset - 80% and Testing dataset - 20%)"
   ]
  },
  {
   "cell_type": "code",
   "execution_count": 38,
   "id": "30763590-5349-40f2-b431-6dd7d76de867",
   "metadata": {},
   "outputs": [],
   "source": [
    "# use sklearn for this (train_test_split) - we have already imported\n",
    "# Convert the input_data into input_train_data, input_test_data\n",
    "# COnvert the output_data into output_train_data, output_test_data\n",
    "input_train_data, input_test_data, output_train_data, output_test_data = train_test_split(input_data, output_data, test_size=0.2)"
   ]
  },
  {
   "cell_type": "code",
   "execution_count": 39,
   "id": "bcfda2c9-ab8e-49c8-a8d6-94f1b1ab30b1",
   "metadata": {},
   "outputs": [
    {
     "name": "stdout",
     "output_type": "stream",
     "text": [
      "(28656, 6) (22924, 6) (5732, 6)\n"
     ]
    }
   ],
   "source": [
    "# print the input shape\n",
    "print(input_data.shape, input_train_data.shape, input_test_data.shape)"
   ]
  },
  {
   "cell_type": "code",
   "execution_count": 40,
   "id": "9e3ee6e0-b72e-4224-9708-d5d23886673b",
   "metadata": {},
   "outputs": [
    {
     "name": "stdout",
     "output_type": "stream",
     "text": [
      "(28656,) (22924,) (5732,)\n"
     ]
    }
   ],
   "source": [
    "# print the output shape\n",
    "print(output_data.shape, output_train_data.shape, output_test_data.shape)"
   ]
  },
  {
   "cell_type": "markdown",
   "id": "1a4ee01b-15a9-4a46-95e1-97f66861cdeb",
   "metadata": {},
   "source": [
    "# Create the Model- RandomForestRegressor"
   ]
  },
  {
   "cell_type": "code",
   "execution_count": 42,
   "id": "b50ca59e-a50f-4569-830b-ab7869fb7fc9",
   "metadata": {},
   "outputs": [],
   "source": [
    "model = RandomForestRegressor(n_estimators=100, max_depth=7)"
   ]
  },
  {
   "cell_type": "code",
   "execution_count": 43,
   "id": "be1d3303-08b6-4bf4-96dd-e6e633db9506",
   "metadata": {},
   "outputs": [
    {
     "data": {
      "text/html": [
       "<style>#sk-container-id-1 {\n",
       "  /* Definition of color scheme common for light and dark mode */\n",
       "  --sklearn-color-text: black;\n",
       "  --sklearn-color-line: gray;\n",
       "  /* Definition of color scheme for unfitted estimators */\n",
       "  --sklearn-color-unfitted-level-0: #fff5e6;\n",
       "  --sklearn-color-unfitted-level-1: #f6e4d2;\n",
       "  --sklearn-color-unfitted-level-2: #ffe0b3;\n",
       "  --sklearn-color-unfitted-level-3: chocolate;\n",
       "  /* Definition of color scheme for fitted estimators */\n",
       "  --sklearn-color-fitted-level-0: #f0f8ff;\n",
       "  --sklearn-color-fitted-level-1: #d4ebff;\n",
       "  --sklearn-color-fitted-level-2: #b3dbfd;\n",
       "  --sklearn-color-fitted-level-3: cornflowerblue;\n",
       "\n",
       "  /* Specific color for light theme */\n",
       "  --sklearn-color-text-on-default-background: var(--sg-text-color, var(--theme-code-foreground, var(--jp-content-font-color1, black)));\n",
       "  --sklearn-color-background: var(--sg-background-color, var(--theme-background, var(--jp-layout-color0, white)));\n",
       "  --sklearn-color-border-box: var(--sg-text-color, var(--theme-code-foreground, var(--jp-content-font-color1, black)));\n",
       "  --sklearn-color-icon: #696969;\n",
       "\n",
       "  @media (prefers-color-scheme: dark) {\n",
       "    /* Redefinition of color scheme for dark theme */\n",
       "    --sklearn-color-text-on-default-background: var(--sg-text-color, var(--theme-code-foreground, var(--jp-content-font-color1, white)));\n",
       "    --sklearn-color-background: var(--sg-background-color, var(--theme-background, var(--jp-layout-color0, #111)));\n",
       "    --sklearn-color-border-box: var(--sg-text-color, var(--theme-code-foreground, var(--jp-content-font-color1, white)));\n",
       "    --sklearn-color-icon: #878787;\n",
       "  }\n",
       "}\n",
       "\n",
       "#sk-container-id-1 {\n",
       "  color: var(--sklearn-color-text);\n",
       "}\n",
       "\n",
       "#sk-container-id-1 pre {\n",
       "  padding: 0;\n",
       "}\n",
       "\n",
       "#sk-container-id-1 input.sk-hidden--visually {\n",
       "  border: 0;\n",
       "  clip: rect(1px 1px 1px 1px);\n",
       "  clip: rect(1px, 1px, 1px, 1px);\n",
       "  height: 1px;\n",
       "  margin: -1px;\n",
       "  overflow: hidden;\n",
       "  padding: 0;\n",
       "  position: absolute;\n",
       "  width: 1px;\n",
       "}\n",
       "\n",
       "#sk-container-id-1 div.sk-dashed-wrapped {\n",
       "  border: 1px dashed var(--sklearn-color-line);\n",
       "  margin: 0 0.4em 0.5em 0.4em;\n",
       "  box-sizing: border-box;\n",
       "  padding-bottom: 0.4em;\n",
       "  background-color: var(--sklearn-color-background);\n",
       "}\n",
       "\n",
       "#sk-container-id-1 div.sk-container {\n",
       "  /* jupyter's `normalize.less` sets `[hidden] { display: none; }`\n",
       "     but bootstrap.min.css set `[hidden] { display: none !important; }`\n",
       "     so we also need the `!important` here to be able to override the\n",
       "     default hidden behavior on the sphinx rendered scikit-learn.org.\n",
       "     See: https://github.com/scikit-learn/scikit-learn/issues/21755 */\n",
       "  display: inline-block !important;\n",
       "  position: relative;\n",
       "}\n",
       "\n",
       "#sk-container-id-1 div.sk-text-repr-fallback {\n",
       "  display: none;\n",
       "}\n",
       "\n",
       "div.sk-parallel-item,\n",
       "div.sk-serial,\n",
       "div.sk-item {\n",
       "  /* draw centered vertical line to link estimators */\n",
       "  background-image: linear-gradient(var(--sklearn-color-text-on-default-background), var(--sklearn-color-text-on-default-background));\n",
       "  background-size: 2px 100%;\n",
       "  background-repeat: no-repeat;\n",
       "  background-position: center center;\n",
       "}\n",
       "\n",
       "/* Parallel-specific style estimator block */\n",
       "\n",
       "#sk-container-id-1 div.sk-parallel-item::after {\n",
       "  content: \"\";\n",
       "  width: 100%;\n",
       "  border-bottom: 2px solid var(--sklearn-color-text-on-default-background);\n",
       "  flex-grow: 1;\n",
       "}\n",
       "\n",
       "#sk-container-id-1 div.sk-parallel {\n",
       "  display: flex;\n",
       "  align-items: stretch;\n",
       "  justify-content: center;\n",
       "  background-color: var(--sklearn-color-background);\n",
       "  position: relative;\n",
       "}\n",
       "\n",
       "#sk-container-id-1 div.sk-parallel-item {\n",
       "  display: flex;\n",
       "  flex-direction: column;\n",
       "}\n",
       "\n",
       "#sk-container-id-1 div.sk-parallel-item:first-child::after {\n",
       "  align-self: flex-end;\n",
       "  width: 50%;\n",
       "}\n",
       "\n",
       "#sk-container-id-1 div.sk-parallel-item:last-child::after {\n",
       "  align-self: flex-start;\n",
       "  width: 50%;\n",
       "}\n",
       "\n",
       "#sk-container-id-1 div.sk-parallel-item:only-child::after {\n",
       "  width: 0;\n",
       "}\n",
       "\n",
       "/* Serial-specific style estimator block */\n",
       "\n",
       "#sk-container-id-1 div.sk-serial {\n",
       "  display: flex;\n",
       "  flex-direction: column;\n",
       "  align-items: center;\n",
       "  background-color: var(--sklearn-color-background);\n",
       "  padding-right: 1em;\n",
       "  padding-left: 1em;\n",
       "}\n",
       "\n",
       "\n",
       "/* Toggleable style: style used for estimator/Pipeline/ColumnTransformer box that is\n",
       "clickable and can be expanded/collapsed.\n",
       "- Pipeline and ColumnTransformer use this feature and define the default style\n",
       "- Estimators will overwrite some part of the style using the `sk-estimator` class\n",
       "*/\n",
       "\n",
       "/* Pipeline and ColumnTransformer style (default) */\n",
       "\n",
       "#sk-container-id-1 div.sk-toggleable {\n",
       "  /* Default theme specific background. It is overwritten whether we have a\n",
       "  specific estimator or a Pipeline/ColumnTransformer */\n",
       "  background-color: var(--sklearn-color-background);\n",
       "}\n",
       "\n",
       "/* Toggleable label */\n",
       "#sk-container-id-1 label.sk-toggleable__label {\n",
       "  cursor: pointer;\n",
       "  display: block;\n",
       "  width: 100%;\n",
       "  margin-bottom: 0;\n",
       "  padding: 0.5em;\n",
       "  box-sizing: border-box;\n",
       "  text-align: center;\n",
       "}\n",
       "\n",
       "#sk-container-id-1 label.sk-toggleable__label-arrow:before {\n",
       "  /* Arrow on the left of the label */\n",
       "  content: \"▸\";\n",
       "  float: left;\n",
       "  margin-right: 0.25em;\n",
       "  color: var(--sklearn-color-icon);\n",
       "}\n",
       "\n",
       "#sk-container-id-1 label.sk-toggleable__label-arrow:hover:before {\n",
       "  color: var(--sklearn-color-text);\n",
       "}\n",
       "\n",
       "/* Toggleable content - dropdown */\n",
       "\n",
       "#sk-container-id-1 div.sk-toggleable__content {\n",
       "  max-height: 0;\n",
       "  max-width: 0;\n",
       "  overflow: hidden;\n",
       "  text-align: left;\n",
       "  /* unfitted */\n",
       "  background-color: var(--sklearn-color-unfitted-level-0);\n",
       "}\n",
       "\n",
       "#sk-container-id-1 div.sk-toggleable__content.fitted {\n",
       "  /* fitted */\n",
       "  background-color: var(--sklearn-color-fitted-level-0);\n",
       "}\n",
       "\n",
       "#sk-container-id-1 div.sk-toggleable__content pre {\n",
       "  margin: 0.2em;\n",
       "  border-radius: 0.25em;\n",
       "  color: var(--sklearn-color-text);\n",
       "  /* unfitted */\n",
       "  background-color: var(--sklearn-color-unfitted-level-0);\n",
       "}\n",
       "\n",
       "#sk-container-id-1 div.sk-toggleable__content.fitted pre {\n",
       "  /* unfitted */\n",
       "  background-color: var(--sklearn-color-fitted-level-0);\n",
       "}\n",
       "\n",
       "#sk-container-id-1 input.sk-toggleable__control:checked~div.sk-toggleable__content {\n",
       "  /* Expand drop-down */\n",
       "  max-height: 200px;\n",
       "  max-width: 100%;\n",
       "  overflow: auto;\n",
       "}\n",
       "\n",
       "#sk-container-id-1 input.sk-toggleable__control:checked~label.sk-toggleable__label-arrow:before {\n",
       "  content: \"▾\";\n",
       "}\n",
       "\n",
       "/* Pipeline/ColumnTransformer-specific style */\n",
       "\n",
       "#sk-container-id-1 div.sk-label input.sk-toggleable__control:checked~label.sk-toggleable__label {\n",
       "  color: var(--sklearn-color-text);\n",
       "  background-color: var(--sklearn-color-unfitted-level-2);\n",
       "}\n",
       "\n",
       "#sk-container-id-1 div.sk-label.fitted input.sk-toggleable__control:checked~label.sk-toggleable__label {\n",
       "  background-color: var(--sklearn-color-fitted-level-2);\n",
       "}\n",
       "\n",
       "/* Estimator-specific style */\n",
       "\n",
       "/* Colorize estimator box */\n",
       "#sk-container-id-1 div.sk-estimator input.sk-toggleable__control:checked~label.sk-toggleable__label {\n",
       "  /* unfitted */\n",
       "  background-color: var(--sklearn-color-unfitted-level-2);\n",
       "}\n",
       "\n",
       "#sk-container-id-1 div.sk-estimator.fitted input.sk-toggleable__control:checked~label.sk-toggleable__label {\n",
       "  /* fitted */\n",
       "  background-color: var(--sklearn-color-fitted-level-2);\n",
       "}\n",
       "\n",
       "#sk-container-id-1 div.sk-label label.sk-toggleable__label,\n",
       "#sk-container-id-1 div.sk-label label {\n",
       "  /* The background is the default theme color */\n",
       "  color: var(--sklearn-color-text-on-default-background);\n",
       "}\n",
       "\n",
       "/* On hover, darken the color of the background */\n",
       "#sk-container-id-1 div.sk-label:hover label.sk-toggleable__label {\n",
       "  color: var(--sklearn-color-text);\n",
       "  background-color: var(--sklearn-color-unfitted-level-2);\n",
       "}\n",
       "\n",
       "/* Label box, darken color on hover, fitted */\n",
       "#sk-container-id-1 div.sk-label.fitted:hover label.sk-toggleable__label.fitted {\n",
       "  color: var(--sklearn-color-text);\n",
       "  background-color: var(--sklearn-color-fitted-level-2);\n",
       "}\n",
       "\n",
       "/* Estimator label */\n",
       "\n",
       "#sk-container-id-1 div.sk-label label {\n",
       "  font-family: monospace;\n",
       "  font-weight: bold;\n",
       "  display: inline-block;\n",
       "  line-height: 1.2em;\n",
       "}\n",
       "\n",
       "#sk-container-id-1 div.sk-label-container {\n",
       "  text-align: center;\n",
       "}\n",
       "\n",
       "/* Estimator-specific */\n",
       "#sk-container-id-1 div.sk-estimator {\n",
       "  font-family: monospace;\n",
       "  border: 1px dotted var(--sklearn-color-border-box);\n",
       "  border-radius: 0.25em;\n",
       "  box-sizing: border-box;\n",
       "  margin-bottom: 0.5em;\n",
       "  /* unfitted */\n",
       "  background-color: var(--sklearn-color-unfitted-level-0);\n",
       "}\n",
       "\n",
       "#sk-container-id-1 div.sk-estimator.fitted {\n",
       "  /* fitted */\n",
       "  background-color: var(--sklearn-color-fitted-level-0);\n",
       "}\n",
       "\n",
       "/* on hover */\n",
       "#sk-container-id-1 div.sk-estimator:hover {\n",
       "  /* unfitted */\n",
       "  background-color: var(--sklearn-color-unfitted-level-2);\n",
       "}\n",
       "\n",
       "#sk-container-id-1 div.sk-estimator.fitted:hover {\n",
       "  /* fitted */\n",
       "  background-color: var(--sklearn-color-fitted-level-2);\n",
       "}\n",
       "\n",
       "/* Specification for estimator info (e.g. \"i\" and \"?\") */\n",
       "\n",
       "/* Common style for \"i\" and \"?\" */\n",
       "\n",
       ".sk-estimator-doc-link,\n",
       "a:link.sk-estimator-doc-link,\n",
       "a:visited.sk-estimator-doc-link {\n",
       "  float: right;\n",
       "  font-size: smaller;\n",
       "  line-height: 1em;\n",
       "  font-family: monospace;\n",
       "  background-color: var(--sklearn-color-background);\n",
       "  border-radius: 1em;\n",
       "  height: 1em;\n",
       "  width: 1em;\n",
       "  text-decoration: none !important;\n",
       "  margin-left: 1ex;\n",
       "  /* unfitted */\n",
       "  border: var(--sklearn-color-unfitted-level-1) 1pt solid;\n",
       "  color: var(--sklearn-color-unfitted-level-1);\n",
       "}\n",
       "\n",
       ".sk-estimator-doc-link.fitted,\n",
       "a:link.sk-estimator-doc-link.fitted,\n",
       "a:visited.sk-estimator-doc-link.fitted {\n",
       "  /* fitted */\n",
       "  border: var(--sklearn-color-fitted-level-1) 1pt solid;\n",
       "  color: var(--sklearn-color-fitted-level-1);\n",
       "}\n",
       "\n",
       "/* On hover */\n",
       "div.sk-estimator:hover .sk-estimator-doc-link:hover,\n",
       ".sk-estimator-doc-link:hover,\n",
       "div.sk-label-container:hover .sk-estimator-doc-link:hover,\n",
       ".sk-estimator-doc-link:hover {\n",
       "  /* unfitted */\n",
       "  background-color: var(--sklearn-color-unfitted-level-3);\n",
       "  color: var(--sklearn-color-background);\n",
       "  text-decoration: none;\n",
       "}\n",
       "\n",
       "div.sk-estimator.fitted:hover .sk-estimator-doc-link.fitted:hover,\n",
       ".sk-estimator-doc-link.fitted:hover,\n",
       "div.sk-label-container:hover .sk-estimator-doc-link.fitted:hover,\n",
       ".sk-estimator-doc-link.fitted:hover {\n",
       "  /* fitted */\n",
       "  background-color: var(--sklearn-color-fitted-level-3);\n",
       "  color: var(--sklearn-color-background);\n",
       "  text-decoration: none;\n",
       "}\n",
       "\n",
       "/* Span, style for the box shown on hovering the info icon */\n",
       ".sk-estimator-doc-link span {\n",
       "  display: none;\n",
       "  z-index: 9999;\n",
       "  position: relative;\n",
       "  font-weight: normal;\n",
       "  right: .2ex;\n",
       "  padding: .5ex;\n",
       "  margin: .5ex;\n",
       "  width: min-content;\n",
       "  min-width: 20ex;\n",
       "  max-width: 50ex;\n",
       "  color: var(--sklearn-color-text);\n",
       "  box-shadow: 2pt 2pt 4pt #999;\n",
       "  /* unfitted */\n",
       "  background: var(--sklearn-color-unfitted-level-0);\n",
       "  border: .5pt solid var(--sklearn-color-unfitted-level-3);\n",
       "}\n",
       "\n",
       ".sk-estimator-doc-link.fitted span {\n",
       "  /* fitted */\n",
       "  background: var(--sklearn-color-fitted-level-0);\n",
       "  border: var(--sklearn-color-fitted-level-3);\n",
       "}\n",
       "\n",
       ".sk-estimator-doc-link:hover span {\n",
       "  display: block;\n",
       "}\n",
       "\n",
       "/* \"?\"-specific style due to the `<a>` HTML tag */\n",
       "\n",
       "#sk-container-id-1 a.estimator_doc_link {\n",
       "  float: right;\n",
       "  font-size: 1rem;\n",
       "  line-height: 1em;\n",
       "  font-family: monospace;\n",
       "  background-color: var(--sklearn-color-background);\n",
       "  border-radius: 1rem;\n",
       "  height: 1rem;\n",
       "  width: 1rem;\n",
       "  text-decoration: none;\n",
       "  /* unfitted */\n",
       "  color: var(--sklearn-color-unfitted-level-1);\n",
       "  border: var(--sklearn-color-unfitted-level-1) 1pt solid;\n",
       "}\n",
       "\n",
       "#sk-container-id-1 a.estimator_doc_link.fitted {\n",
       "  /* fitted */\n",
       "  border: var(--sklearn-color-fitted-level-1) 1pt solid;\n",
       "  color: var(--sklearn-color-fitted-level-1);\n",
       "}\n",
       "\n",
       "/* On hover */\n",
       "#sk-container-id-1 a.estimator_doc_link:hover {\n",
       "  /* unfitted */\n",
       "  background-color: var(--sklearn-color-unfitted-level-3);\n",
       "  color: var(--sklearn-color-background);\n",
       "  text-decoration: none;\n",
       "}\n",
       "\n",
       "#sk-container-id-1 a.estimator_doc_link.fitted:hover {\n",
       "  /* fitted */\n",
       "  background-color: var(--sklearn-color-fitted-level-3);\n",
       "}\n",
       "</style><div id=\"sk-container-id-1\" class=\"sk-top-container\"><div class=\"sk-text-repr-fallback\"><pre>RandomForestRegressor(max_depth=7)</pre><b>In a Jupyter environment, please rerun this cell to show the HTML representation or trust the notebook. <br />On GitHub, the HTML representation is unable to render, please try loading this page with nbviewer.org.</b></div><div class=\"sk-container\" hidden><div class=\"sk-item\"><div class=\"sk-estimator fitted sk-toggleable\"><input class=\"sk-toggleable__control sk-hidden--visually\" id=\"sk-estimator-id-1\" type=\"checkbox\" checked><label for=\"sk-estimator-id-1\" class=\"sk-toggleable__label fitted sk-toggleable__label-arrow fitted\">&nbsp;&nbsp;RandomForestRegressor<a class=\"sk-estimator-doc-link fitted\" rel=\"noreferrer\" target=\"_blank\" href=\"https://scikit-learn.org/1.4/modules/generated/sklearn.ensemble.RandomForestRegressor.html\">?<span>Documentation for RandomForestRegressor</span></a><span class=\"sk-estimator-doc-link fitted\">i<span>Fitted</span></span></label><div class=\"sk-toggleable__content fitted\"><pre>RandomForestRegressor(max_depth=7)</pre></div> </div></div></div></div>"
      ],
      "text/plain": [
       "RandomForestRegressor(max_depth=7)"
      ]
     },
     "execution_count": 43,
     "metadata": {},
     "output_type": "execute_result"
    }
   ],
   "source": [
    "#Training the Model\n",
    "model.fit(input_train_data, output_train_data)"
   ]
  },
  {
   "cell_type": "code",
   "execution_count": 44,
   "id": "eb3b88c7-943b-458d-aafa-4926c083d8ab",
   "metadata": {},
   "outputs": [],
   "source": [
    "#predicting values with Test Dataset\n",
    "test_data_predictions = model.predict(input_test_data) "
   ]
  },
  {
   "cell_type": "code",
   "execution_count": 45,
   "id": "d80e86c8-9fdb-494e-b881-b2ca8646a10c",
   "metadata": {},
   "outputs": [
    {
     "data": {
      "text/plain": [
       "array([    0.        ,     0.        ,     0.        , ...,\n",
       "       29821.4141222 ,     0.        , 19829.41810748])"
      ]
     },
     "execution_count": 45,
     "metadata": {},
     "output_type": "execute_result"
    }
   ],
   "source": [
    "# input test datas are here\n",
    "test_data_predictions"
   ]
  },
  {
   "cell_type": "code",
   "execution_count": 46,
   "id": "d139b856-268e-4bbc-83a8-b0a3a2dd0713",
   "metadata": {},
   "outputs": [],
   "source": [
    "#Evaluating Model - r2_score is one of the metrics going ot evaluate our model score\n",
    "from sklearn.metrics import r2_score"
   ]
  },
  {
   "cell_type": "code",
   "execution_count": 47,
   "id": "cfe1a65b-efd9-4585-be30-ddb8592afffd",
   "metadata": {},
   "outputs": [
    {
     "data": {
      "text/plain": [
       "0.9953651857004281"
      ]
     },
     "execution_count": 47,
     "metadata": {},
     "output_type": "execute_result"
    }
   ],
   "source": [
    "# output_test_data having the actual value\n",
    "# r2 score ranges between 0 and 1, if it is near to the one that means our model is performing very well, if it is near to the 0 it is not performing well\n",
    "# here I got 99% means the data is matching with the actuall value\n",
    "r2_score(test_data_predictions,output_test_data)"
   ]
  },
  {
   "cell_type": "markdown",
   "id": "7629d25e-42dc-42f5-91ea-47acc56301d5",
   "metadata": {},
   "source": [
    "# Support Vector Regression (SVR)"
   ]
  },
  {
   "cell_type": "code",
   "execution_count": 49,
   "id": "b60154e9-35ed-47f2-b973-a306fac0ef1b",
   "metadata": {},
   "outputs": [
    {
     "name": "stdout",
     "output_type": "stream",
     "text": [
      "R^2 Score for SVR: -0.211813640796495\n"
     ]
    }
   ],
   "source": [
    "from sklearn.svm import SVR\n",
    "from sklearn.pipeline import make_pipeline\n",
    "from sklearn.preprocessing import StandardScaler\n",
    "\n",
    "svr = make_pipeline(StandardScaler(), SVR(C=1.0, epsilon=0.2))\n",
    "svr.fit(input_train_data, output_train_data)\n",
    "y_pred_svr = svr.predict(input_test_data)\n",
    "print(\"R^2 Score for SVR:\", r2_score(output_test_data, y_pred_svr))\n"
   ]
  },
  {
   "cell_type": "markdown",
   "id": "b8237f59-7f07-4122-a363-a8fa13fdb501",
   "metadata": {},
   "source": [
    "# Lasso Regression"
   ]
  },
  {
   "cell_type": "code",
   "execution_count": 51,
   "id": "04c59962-c6c1-468d-ad14-254efd969370",
   "metadata": {},
   "outputs": [
    {
     "name": "stdout",
     "output_type": "stream",
     "text": [
      "R^2 Score for Lasso Regression: 0.5901412133321564\n"
     ]
    }
   ],
   "source": [
    "from sklearn.linear_model import Lasso\n",
    "\n",
    "lasso = Lasso(alpha=0.1)\n",
    "lasso.fit(input_train_data, output_train_data)\n",
    "y_pred_lasso = lasso.predict(input_test_data)\n",
    "print(\"R^2 Score for Lasso Regression:\", r2_score(output_test_data, y_pred_lasso))\n"
   ]
  },
  {
   "cell_type": "markdown",
   "id": "fa2f6890-fc8d-42c5-bab7-6ae6aec547f0",
   "metadata": {},
   "source": [
    "# Elastic Net Regression"
   ]
  },
  {
   "cell_type": "code",
   "execution_count": 53,
   "id": "5ce586ea-140e-4f8b-a521-5927bb1384c1",
   "metadata": {},
   "outputs": [
    {
     "name": "stdout",
     "output_type": "stream",
     "text": [
      "R^2 Score for Elastic Net: 0.5804361213249876\n"
     ]
    }
   ],
   "source": [
    "from sklearn.linear_model import ElasticNet\n",
    "from sklearn.metrics import r2_score\n",
    "\n",
    "elastic_net = ElasticNet(alpha=0.1, l1_ratio=0.5, random_state=42)\n",
    "elastic_net.fit(input_train_data, output_train_data)\n",
    "y_pred_en = elastic_net.predict(input_test_data)\n",
    "print(\"R^2 Score for Elastic Net:\", r2_score(output_test_data, y_pred_en))\n"
   ]
  },
  {
   "cell_type": "markdown",
   "id": "c0ebf5ab-1b1f-4323-9769-0ba590d1457a",
   "metadata": {},
   "source": [
    "# Ridge Regression"
   ]
  },
  {
   "cell_type": "code",
   "execution_count": 55,
   "id": "1ced6937-ac81-4654-b34e-892889466be1",
   "metadata": {},
   "outputs": [
    {
     "name": "stdout",
     "output_type": "stream",
     "text": [
      "R^2 Score for Ridge Regression: 0.5901381523642577\n"
     ]
    }
   ],
   "source": [
    "from sklearn.linear_model import Ridge\n",
    "\n",
    "ridge = Ridge(alpha=1.0)\n",
    "ridge.fit(input_train_data, output_train_data)\n",
    "y_pred_ridge = ridge.predict(input_test_data)\n",
    "print(\"R^2 Score for Ridge Regression:\", r2_score(output_test_data, y_pred_ridge))\n"
   ]
  },
  {
   "cell_type": "code",
   "execution_count": 56,
   "id": "abfe3597-d8a0-464b-90c9-78b582e08eed",
   "metadata": {},
   "outputs": [
    {
     "data": {
      "text/html": [
       "<div>\n",
       "<style scoped>\n",
       "    .dataframe tbody tr th:only-of-type {\n",
       "        vertical-align: middle;\n",
       "    }\n",
       "\n",
       "    .dataframe tbody tr th {\n",
       "        vertical-align: top;\n",
       "    }\n",
       "\n",
       "    .dataframe thead th {\n",
       "        text-align: right;\n",
       "    }\n",
       "</style>\n",
       "<table border=\"1\" class=\"dataframe\">\n",
       "  <thead>\n",
       "    <tr style=\"text-align: right;\">\n",
       "      <th></th>\n",
       "      <th>age</th>\n",
       "      <th>sex</th>\n",
       "      <th>bmi</th>\n",
       "      <th>smoker</th>\n",
       "      <th>alcohol_consumer</th>\n",
       "      <th>disease</th>\n",
       "    </tr>\n",
       "  </thead>\n",
       "  <tbody>\n",
       "    <tr>\n",
       "      <th>14336</th>\n",
       "      <td>20</td>\n",
       "      <td>1</td>\n",
       "      <td>22.00</td>\n",
       "      <td>0</td>\n",
       "      <td>0</td>\n",
       "      <td>3</td>\n",
       "    </tr>\n",
       "    <tr>\n",
       "      <th>5372</th>\n",
       "      <td>22</td>\n",
       "      <td>0</td>\n",
       "      <td>27.10</td>\n",
       "      <td>0</td>\n",
       "      <td>1</td>\n",
       "      <td>5</td>\n",
       "    </tr>\n",
       "    <tr>\n",
       "      <th>21602</th>\n",
       "      <td>31</td>\n",
       "      <td>0</td>\n",
       "      <td>28.12</td>\n",
       "      <td>0</td>\n",
       "      <td>1</td>\n",
       "      <td>0</td>\n",
       "    </tr>\n",
       "    <tr>\n",
       "      <th>11780</th>\n",
       "      <td>62</td>\n",
       "      <td>0</td>\n",
       "      <td>36.86</td>\n",
       "      <td>0</td>\n",
       "      <td>0</td>\n",
       "      <td>4</td>\n",
       "    </tr>\n",
       "    <tr>\n",
       "      <th>28615</th>\n",
       "      <td>47</td>\n",
       "      <td>0</td>\n",
       "      <td>21.14</td>\n",
       "      <td>0</td>\n",
       "      <td>0</td>\n",
       "      <td>0</td>\n",
       "    </tr>\n",
       "    <tr>\n",
       "      <th>...</th>\n",
       "      <td>...</td>\n",
       "      <td>...</td>\n",
       "      <td>...</td>\n",
       "      <td>...</td>\n",
       "      <td>...</td>\n",
       "      <td>...</td>\n",
       "    </tr>\n",
       "    <tr>\n",
       "      <th>13903</th>\n",
       "      <td>56</td>\n",
       "      <td>0</td>\n",
       "      <td>39.82</td>\n",
       "      <td>0</td>\n",
       "      <td>1</td>\n",
       "      <td>5</td>\n",
       "    </tr>\n",
       "    <tr>\n",
       "      <th>10502</th>\n",
       "      <td>18</td>\n",
       "      <td>0</td>\n",
       "      <td>25.10</td>\n",
       "      <td>1</td>\n",
       "      <td>1</td>\n",
       "      <td>0</td>\n",
       "    </tr>\n",
       "    <tr>\n",
       "      <th>13504</th>\n",
       "      <td>57</td>\n",
       "      <td>0</td>\n",
       "      <td>23.98</td>\n",
       "      <td>0</td>\n",
       "      <td>1</td>\n",
       "      <td>2</td>\n",
       "    </tr>\n",
       "    <tr>\n",
       "      <th>2766</th>\n",
       "      <td>23</td>\n",
       "      <td>0</td>\n",
       "      <td>36.67</td>\n",
       "      <td>1</td>\n",
       "      <td>0</td>\n",
       "      <td>1</td>\n",
       "    </tr>\n",
       "    <tr>\n",
       "      <th>18039</th>\n",
       "      <td>36</td>\n",
       "      <td>0</td>\n",
       "      <td>29.04</td>\n",
       "      <td>0</td>\n",
       "      <td>1</td>\n",
       "      <td>5</td>\n",
       "    </tr>\n",
       "  </tbody>\n",
       "</table>\n",
       "<p>22924 rows × 6 columns</p>\n",
       "</div>"
      ],
      "text/plain": [
       "       age sex    bmi smoker alcohol_consumer disease\n",
       "14336   20   1  22.00      0                0       3\n",
       "5372    22   0  27.10      0                1       5\n",
       "21602   31   0  28.12      0                1       0\n",
       "11780   62   0  36.86      0                0       4\n",
       "28615   47   0  21.14      0                0       0\n",
       "...    ...  ..    ...    ...              ...     ...\n",
       "13903   56   0  39.82      0                1       5\n",
       "10502   18   0  25.10      1                1       0\n",
       "13504   57   0  23.98      0                1       2\n",
       "2766    23   0  36.67      1                0       1\n",
       "18039   36   0  29.04      0                1       5\n",
       "\n",
       "[22924 rows x 6 columns]"
      ]
     },
     "execution_count": 56,
     "metadata": {},
     "output_type": "execute_result"
    }
   ],
   "source": [
    "input_train_data"
   ]
  },
  {
   "cell_type": "code",
   "execution_count": 66,
   "id": "e85460c3-1323-4e14-ab40-2b0a27aab38f",
   "metadata": {},
   "outputs": [
    {
     "name": "stdout",
     "output_type": "stream",
     "text": [
      "Expected Features: ['age' 'sex' 'bmi' 'smoker' 'alcohol_consumer' 'disease']\n"
     ]
    }
   ],
   "source": [
    "# Check model feature names\n",
    "feature_names = model.feature_names_in_\n",
    "print(\"Expected Features:\", feature_names)\n",
    "\n",
    "# Input data (Order: age sex bmi smoker alcohol_consumer disease)\n",
    "input_data = (48, 0, 31.62, 0, 0, 0)\n",
    "\n",
    "# Convert above data into numpy array\n",
    "input_data_array = np.asarray(input_data)\n",
    "\n",
    "# Now convert the input data array into a shape (reshape we have to do it)\n",
    "input_data_array = input_data_array.reshape(1,-1)\n",
    "\n",
    "# Wrap the reshaped NumPy array in a DataFrame, ensuring the column names match the feature names.\n",
    "feature_names = model.feature_names_in_\n",
    "input_data_df = pd.DataFrame(input_data_array, columns=feature_names)\n",
    "\n",
    "# Predict using the DataFrame\n",
    "insurance_premium = model.predict(input_data_df)"
   ]
  },
  {
   "cell_type": "code",
   "execution_count": 68,
   "id": "ce0a97f2-59e2-48c8-998d-e1a96c35c2aa",
   "metadata": {},
   "outputs": [
    {
     "name": "stdout",
     "output_type": "stream",
     "text": [
      "Predicted Insurance Premium: 8142.950247613361\n"
     ]
    }
   ],
   "source": [
    "print(f\"Predicted Insurance Premium: {insurance_premium[0]}\")"
   ]
  },
  {
   "cell_type": "markdown",
   "id": "cddfc696-a3a5-4971-a375-33836c7ace6b",
   "metadata": {},
   "source": [
    "# Save the model"
   ]
  },
  {
   "cell_type": "code",
   "execution_count": null,
   "id": "0d13938f-440e-4dca-8a78-8c66e6181297",
   "metadata": {},
   "outputs": [],
   "source": [
    "import pickle as pkl"
   ]
  },
  {
   "cell_type": "code",
   "execution_count": null,
   "id": "d80d804b-c60b-4d89-816f-2ea666734d50",
   "metadata": {},
   "outputs": [],
   "source": [
    "pkl.dump(model, open('MIPML.pkl','wb'))"
   ]
  }
 ],
 "metadata": {
  "kernelspec": {
   "display_name": "Python 3 (ipykernel)",
   "language": "python",
   "name": "python3"
  },
  "language_info": {
   "codemirror_mode": {
    "name": "ipython",
    "version": 3
   },
   "file_extension": ".py",
   "mimetype": "text/x-python",
   "name": "python",
   "nbconvert_exporter": "python",
   "pygments_lexer": "ipython3",
   "version": "3.12.4"
  }
 },
 "nbformat": 4,
 "nbformat_minor": 5
}
